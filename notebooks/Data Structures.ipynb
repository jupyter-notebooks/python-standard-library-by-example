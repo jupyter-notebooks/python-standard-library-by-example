{
 "metadata": {
  "name": "Data Structures"
 },
 "nbformat": 3,
 "nbformat_minor": 0,
 "worksheets": [
  {
   "cells": [
    {
     "cell_type": "markdown",
     "metadata": {},
     "source": [
      "http://pymotw.com/2/\n",
      "\n",
      "##Counter\n",
      "\n",
      "A `Counter` is a container that tracks how many times equivalent values are added. It\n",
      "can be used to implement the same algorithms for which other languages commonly\n",
      "use bag or multiset data structures.\n",
      "\n",
      "###Initializing\n",
      "\n",
      "`Counter` supports three forms of initialization. Its constructor can be called with a\n",
      "sequence of items, a dictionary containing keys and counts, or using keyword arguments\n",
      "mapping string names to counts."
     ]
    },
    {
     "cell_type": "code",
     "collapsed": false,
     "input": [
      "import collections"
     ],
     "language": "python",
     "metadata": {},
     "outputs": [],
     "prompt_number": 2
    },
    {
     "cell_type": "code",
     "collapsed": false,
     "input": [
      "print collections.Counter(['a', 'b', 'c', 'a', 'b', 'b'])\n",
      "print collections.Counter({'a':2, 'b':3, 'c':1})\n",
      "print collections.Counter(a=2, b=3, c=1)"
     ],
     "language": "python",
     "metadata": {},
     "outputs": [
      {
       "output_type": "stream",
       "stream": "stdout",
       "text": [
        "Counter({'b': 3, 'a': 2, 'c': 1})\n",
        "Counter({'b': 3, 'a': 2, 'c': 1})\n",
        "Counter({'b': 3, 'a': 2, 'c': 1})\n"
       ]
      }
     ],
     "prompt_number": 3
    },
    {
     "cell_type": "markdown",
     "metadata": {},
     "source": [
      "An empty `Counter` can be constructed with no arguments and populated via the\n",
      "`update()` method."
     ]
    },
    {
     "cell_type": "code",
     "collapsed": false,
     "input": [
      "c = collections.Counter()\n",
      "print 'Initial :', c\n",
      "\n",
      "c.update('abcdaab')\n",
      "print 'Sequence:', c\n",
      "\n",
      "c.update({'a':1, 'd':5})\n",
      "print 'Dict :', c\n"
     ],
     "language": "python",
     "metadata": {},
     "outputs": [
      {
       "output_type": "stream",
       "stream": "stdout",
       "text": [
        "Initial : Counter()\n",
        "Sequence: Counter({'a': 3, 'b': 2, 'c': 1, 'd': 1})\n",
        "Dict : Counter({'d': 6, 'a': 4, 'b': 2, 'c': 1})\n"
       ]
      }
     ],
     "prompt_number": 4
    },
    {
     "cell_type": "markdown",
     "metadata": {},
     "source": [
      "`Counter` does not raise `KeyError` for unknown items. If a value has not been\n",
      "seen in the input (as with e in this example), its count is 0."
     ]
    },
    {
     "cell_type": "code",
     "collapsed": false,
     "input": [
      "c = collections.Counter('abcdaab')\n",
      "\n",
      "for letter in 'abcde':\n",
      "    print '%s : %d' % (letter, c[letter])"
     ],
     "language": "python",
     "metadata": {},
     "outputs": [
      {
       "output_type": "stream",
       "stream": "stdout",
       "text": [
        "a : 3\n",
        "b : 2\n",
        "c : 1\n",
        "d : 1\n",
        "e : 0\n"
       ]
      }
     ],
     "prompt_number": 5
    },
    {
     "cell_type": "markdown",
     "metadata": {},
     "source": [
      "The `elements()` method returns an iterator that produces all items known to the\n",
      "`Counter`.\n",
      "\n",
      "The order of elements is not guaranteed, and items with counts less than or equal\n",
      "to zero are not included.\n",
      "\n",
      "Use `most_common()` to produce a sequence of the n most frequently encountered\n",
      "input values and their respective counts."
     ]
    },
    {
     "cell_type": "code",
     "collapsed": false,
     "input": [
      "c = collections.Counter('extremely')\n",
      "c['z'] = 0\n",
      "\n",
      "print c\n",
      "print list(c.elements())"
     ],
     "language": "python",
     "metadata": {},
     "outputs": [
      {
       "output_type": "stream",
       "stream": "stdout",
       "text": [
        "Counter({'e': 3, 'm': 1, 'l': 1, 'r': 1, 't': 1, 'y': 1, 'x': 1, 'z': 0})\n",
        "['e', 'e', 'e', 'm', 'l', 'r', 't', 'y', 'x']\n"
       ]
      }
     ],
     "prompt_number": 6
    },
    {
     "cell_type": "code",
     "collapsed": false,
     "input": [
      "!ls"
     ],
     "language": "python",
     "metadata": {},
     "outputs": [
      {
       "output_type": "stream",
       "stream": "stdout",
       "text": [
        "Data Structures.ipynb\n",
        "Text.ipynb\n",
        "styles\n",
        "words\n"
       ]
      }
     ],
     "prompt_number": 13
    },
    {
     "cell_type": "code",
     "collapsed": false,
     "input": [
      "c = collections.Counter()\n",
      "with open('words', 'rt') as f:\n",
      "    for line in f:\n",
      "        c.update(line.rstrip().lower())\n",
      "\n",
      "print 'Most common:'\n",
      "for letter, count in c.most_common(3):\n",
      "    print '%s: %7d' % (letter, count)\n"
     ],
     "language": "python",
     "metadata": {},
     "outputs": [
      {
       "output_type": "stream",
       "stream": "stdout",
       "text": [
        "Most common:\n",
        "s:   90113\n",
        "e:   88833\n",
        "i:   66986\n"
       ]
      }
     ],
     "prompt_number": 14
    },
    {
     "cell_type": "markdown",
     "metadata": {},
     "source": [
      "`Counter` instances support arithmetic and set operations for aggregating results.\n",
      "\n",
      "Each time a new `Counter` is produced through an operation, items with zero or negative counts are discarded. the count for `a` is the same in `c1` and `c2`, so subtraction leaves it at zero."
     ]
    },
    {
     "cell_type": "code",
     "collapsed": false,
     "input": [
      "c1 = collections.Counter(['a', 'b', 'c', 'a', 'b', 'b'])\n",
      "c2 = collections.Counter('alphabet')\n",
      "print 'C1:', c1\n",
      "print 'C2:', c2\n",
      "print '\\nCombined counts:'\n",
      "print c1 + c2\n",
      "print '\\nSubtraction:'\n",
      "print c1 - c2\n",
      "print '\\nIntersection (taking positive minimums):'\n",
      "print c1 & c2\n",
      "print '\\nUnion (taking maximums):'\n",
      "print c1 | c2"
     ],
     "language": "python",
     "metadata": {},
     "outputs": [
      {
       "output_type": "stream",
       "stream": "stdout",
       "text": [
        "C1: Counter({'b': 3, 'a': 2, 'c': 1})\n",
        "C2: Counter({'a': 2, 'b': 1, 'e': 1, 'h': 1, 'l': 1, 'p': 1, 't': 1})\n",
        "\n",
        "Combined counts:\n",
        "Counter({'a': 4, 'b': 4, 'c': 1, 'e': 1, 'h': 1, 'l': 1, 'p': 1, 't': 1})\n",
        "\n",
        "Subtraction:\n",
        "Counter({'b': 2, 'c': 1})\n",
        "\n",
        "Intersection (taking positive minimums):\n",
        "Counter({'a': 2, 'b': 1})\n",
        "\n",
        "Union (taking maximums):\n",
        "Counter({'b': 3, 'a': 2, 'c': 1, 'e': 1, 'h': 1, 'l': 1, 'p': 1, 't': 1})\n"
       ]
      }
     ],
     "prompt_number": 17
    },
    {
     "cell_type": "markdown",
     "metadata": {},
     "source": [
      "##default dict"
     ]
    },
    {
     "cell_type": "markdown",
     "metadata": {},
     "source": [
      "The standard dictionary includes the method `setdefault()` for retrieving a value and\n",
      "establishing a default if the value does not exist. By contrast, `defaultdict` lets the\n",
      "caller specify the default up front when the container is initialized."
     ]
    },
    {
     "cell_type": "code",
     "collapsed": false,
     "input": [
      "import collections"
     ],
     "language": "python",
     "metadata": {},
     "outputs": []
    },
    {
     "cell_type": "code",
     "collapsed": false,
     "input": [
      "def default_factory():\n",
      "    return 'default value'\n",
      "\n",
      "d = collections.defaultdict(default_factory, foo='bar')\n",
      "print 'd:', d\n",
      "print 'foo =>', d['foo']\n",
      "print 'bar =>', d['bar']"
     ],
     "language": "python",
     "metadata": {},
     "outputs": [
      {
       "output_type": "stream",
       "stream": "stdout",
       "text": [
        "d: defaultdict(<function default_factory at 0x03A6A430>, {'foo': 'bar'})\n",
        "foo => bar\n",
        "bar => default value\n"
       ]
      }
     ],
     "prompt_number": 20
    },
    {
     "cell_type": "markdown",
     "metadata": {},
     "source": [
      "Using `list` as the `default_factory`, it is easy to group a sequence of key-value pairs into a dictionary of lists:"
     ]
    },
    {
     "cell_type": "code",
     "collapsed": false,
     "input": [
      ">>> s = [('yellow', 1), ('blue', 2), ('yellow', 3), ('blue', 4), ('red', 1)]\n",
      ">>> d = collections.defaultdict(list)\n",
      ">>> for k, v in s:\n",
      "...     d[k].append(v)\n",
      ">>> d.items()\n",
      "[('blue', [2, 4]), ('red', [1]), ('yellow', [1, 3])]"
     ],
     "language": "python",
     "metadata": {},
     "outputs": [
      {
       "metadata": {},
       "output_type": "pyout",
       "prompt_number": 22,
       "text": [
        "[('blue', [2, 4]), ('red', [1]), ('yellow', [1, 3])]"
       ]
      }
     ],
     "prompt_number": 22
    },
    {
     "cell_type": "markdown",
     "metadata": {},
     "source": [
      "When each key is encountered for the first time, it is not already in the mapping; so an entry is automatically created using the `default_factory` function which returns an empty `list`. The `list.append()` operation then attaches the value to the new list. When keys are encountered again, the look-up proceeds normally (returning the list for that key) and the `list.append()` operation adds another value to the list. This technique is simpler and faster than an equivalent technique using `dict.setdefault()`:"
     ]
    },
    {
     "cell_type": "code",
     "collapsed": false,
     "input": [
      ">>> s = [('yellow', 1), ('blue', 2), ('yellow', 3), ('blue', 4), ('red', 1)]\n",
      ">>> d = dict()\n",
      ">>> for k, v in s:\n",
      "...     d.setdefault(k, []).append(v)\n",
      ">>> d.items()"
     ],
     "language": "python",
     "metadata": {},
     "outputs": [
      {
       "metadata": {},
       "output_type": "pyout",
       "prompt_number": 23,
       "text": [
        "[('blue', [2, 4]), ('red', [1]), ('yellow', [1, 3])]"
       ]
      }
     ],
     "prompt_number": 23
    },
    {
     "cell_type": "markdown",
     "metadata": {},
     "source": [
      "Setting the `default_factory` to `int` makes the `defaultdict` useful for counting (like a bag or multiset in other languages):"
     ]
    },
    {
     "cell_type": "code",
     "collapsed": false,
     "input": [
      ">>> s = 'mississippi'\n",
      ">>> d = collections.defaultdict(int)\n",
      ">>> for k in s:\n",
      "...     d[k] += 1\n",
      ">>> d.items()\n",
      "[('i', 4), ('p', 2), ('s', 4), ('m', 1)]"
     ],
     "language": "python",
     "metadata": {},
     "outputs": [
      {
       "metadata": {},
       "output_type": "pyout",
       "prompt_number": 26,
       "text": [
        "[('i', 4), ('p', 2), ('s', 4), ('m', 1)]"
       ]
      }
     ],
     "prompt_number": 26
    },
    {
     "cell_type": "markdown",
     "metadata": {},
     "source": [
      "When a letter is first encountered, it is missing from the mapping, so the `default_factory` function calls `int()` to supply a default count of zero. The increment operation then builds up the count for each letter.\n",
      "\n",
      "The function `int()` which always returns zero is just a special case of constant functions. A faster and more flexible way to create constant functions is to use `itertools.repeat()` which can supply any constant value (not just zero):"
     ]
    },
    {
     "cell_type": "code",
     "collapsed": false,
     "input": [
      "import itertools"
     ],
     "language": "python",
     "metadata": {},
     "outputs": [],
     "prompt_number": 27
    },
    {
     "cell_type": "code",
     "collapsed": false,
     "input": [
      ">>> def constant_factory(value):\n",
      "...     return itertools.repeat(value).next\n",
      ">>> d = collections.defaultdict(constant_factory('<missing>'))\n",
      ">>> d.update(name='John', action='ran')\n",
      ">>> '%(name)s %(action)s to %(object)s' % d\n",
      "'John ran to <missing>'"
     ],
     "language": "python",
     "metadata": {},
     "outputs": [
      {
       "metadata": {},
       "output_type": "pyout",
       "prompt_number": 29,
       "text": [
        "'John ran to <missing>'"
       ]
      }
     ],
     "prompt_number": 29
    },
    {
     "cell_type": "markdown",
     "metadata": {},
     "source": [
      "Setting the `default_factory` to set makes the `defaultdict` useful for building a dictionary of sets:"
     ]
    },
    {
     "cell_type": "code",
     "collapsed": false,
     "input": [
      ">>> s = [('red', 1), ('blue', 2), ('red', 3), ('blue', 4), ('red', 1), ('blue', 4)]\n",
      ">>> d = collections.defaultdict(set)\n",
      ">>> for k, v in s:\n",
      "...     d[k].add(v)\n",
      ">>> d.items()\n",
      "[('blue', set([2, 4])), ('red', set([1, 3]))]"
     ],
     "language": "python",
     "metadata": {},
     "outputs": [
      {
       "metadata": {},
       "output_type": "pyout",
       "prompt_number": 31,
       "text": [
        "[('blue', {2, 4}), ('red', {1, 3})]"
       ]
      }
     ],
     "prompt_number": 31
    },
    {
     "cell_type": "markdown",
     "metadata": {},
     "source": [
      "##deque"
     ]
    },
    {
     "cell_type": "code",
     "collapsed": false,
     "input": [
      "d = collections.deque('abcdefg')\n",
      "print 'Deque:', d\n",
      "print 'Length:', len(d)\n",
      "print 'Left end:', d[0]\n",
      "print 'Right end:', d[-1]\n",
      "d.remove('c')\n",
      "print 'remove(c):', d"
     ],
     "language": "python",
     "metadata": {},
     "outputs": [
      {
       "output_type": "stream",
       "stream": "stdout",
       "text": [
        "Deque: deque(['a', 'b', 'c', 'd', 'e', 'f', 'g'])\n",
        "Length: 7\n",
        "Left end: a\n",
        "Right end: g\n",
        "remove(c): deque(['a', 'b', 'd', 'e', 'f', 'g'])\n"
       ]
      }
     ],
     "prompt_number": 32
    },
    {
     "cell_type": "markdown",
     "metadata": {},
     "source": [
      "**Populating**\n",
      "\n",
      "A `deque` can be populated from either end, termed \u201cleft\u201d and \u201cright\u201d in the Python\n",
      "implementation."
     ]
    },
    {
     "cell_type": "code",
     "collapsed": false,
     "input": [
      "# Add to the right\n",
      "d1 = collections.deque()\n",
      "d1.extend('abcdefg')\n",
      "\n",
      "print 'extend :', d1\n",
      "d1.append('h')\n",
      "\n",
      "print 'append :', d1\n",
      "# Add to the left\n",
      "\n",
      "d2 = collections.deque()\n",
      "\n",
      "d2.extendleft(xrange(6))\n",
      "print 'extendleft:', d2\n",
      "\n",
      "d2.appendleft(6)\n",
      "print 'appendleft:', d2"
     ],
     "language": "python",
     "metadata": {},
     "outputs": [
      {
       "output_type": "stream",
       "stream": "stdout",
       "text": [
        "extend : deque(['a', 'b', 'c', 'd', 'e', 'f', 'g'])\n",
        "append : deque(['a', 'b', 'c', 'd', 'e', 'f', 'g', 'h'])\n",
        "extendleft: deque([5, 4, 3, 2, 1, 0])\n",
        "appendleft: deque([6, 5, 4, 3, 2, 1, 0])\n"
       ]
      }
     ],
     "prompt_number": 33
    },
    {
     "cell_type": "markdown",
     "metadata": {},
     "source": [
      "**Consuming**\n",
      "\n",
      "Similarly, the elements of the `deque` can be consumed from both ends or either end,\n",
      "depending on the algorithm being applied."
     ]
    },
    {
     "cell_type": "code",
     "collapsed": false,
     "input": [
      "print 'From the right:'\n",
      "d = collections.deque('abcdefg')\n",
      "while True:\n",
      "    try:\n",
      "        print d.pop(),\n",
      "    except IndexError:\n",
      "        break\n",
      "print\n",
      "\n",
      "print '\\nFrom the left:'\n",
      "d = collections.deque(xrange(6))\n",
      "while True:\n",
      "    try:\n",
      "        print d.popleft(),\n",
      "    except IndexError:\n",
      "        break\n",
      "print"
     ],
     "language": "python",
     "metadata": {},
     "outputs": [
      {
       "output_type": "stream",
       "stream": "stdout",
       "text": [
        "From the right:\n",
        "g f e d c b a\n",
        "\n",
        "From the left:\n",
        "0 1 2 3 4 5\n"
       ]
      }
     ],
     "prompt_number": 34
    },
    {
     "cell_type": "markdown",
     "metadata": {},
     "source": [
      "**Since deques are thread-safe, the contents can even be consumed from both ends\n",
      "at the same time from separate threads.**"
     ]
    },
    {
     "cell_type": "code",
     "collapsed": false,
     "input": [
      "import threading\n",
      "import time\n",
      "\n",
      "candle = collections.deque(xrange(5))\n",
      "def burn(direction, nextSource):\n",
      "    while True:\n",
      "        try:\n",
      "            next = nextSource()\n",
      "        except IndexError:\n",
      "            break\n",
      "        else:\n",
      "            print '%8s: %s' % (direction, next)\n",
      "            time.sleep(0.1)\n",
      "    print '%8s done' % direction\n",
      "    return\n",
      "\n",
      "left = threading.Thread(target=burn, args=('Left', candle.popleft))\n",
      "right = threading.Thread(target=burn, args=('Right', candle.pop))\n",
      "\n",
      "left.start()\n",
      "right.start()\n",
      "\n",
      "left.join()\n",
      "right.join()\n"
     ],
     "language": "python",
     "metadata": {},
     "outputs": [
      {
       "output_type": "stream",
       "stream": "stdout",
       "text": [
        "    Left: 0\n",
        "   Right: 4\n",
        "    Left: 1\n",
        "   Right: 3\n",
        "    Left: 2\n",
        "   Right done\n",
        "    Left done\n"
       ]
      }
     ],
     "prompt_number": 45
    },
    {
     "cell_type": "markdown",
     "metadata": {},
     "source": [
      "Rotating the `deque` to the right (using a positive rotation) takes items from the\n",
      "right end and moves them to the left end. Rotating to the left (with a negative value)\n",
      "takes items from the left end and moves them to the right end. It may help to visualize\n",
      "the items in the `deque` as being engraved along the edge of a dial."
     ]
    },
    {
     "cell_type": "code",
     "collapsed": false,
     "input": [
      "d = collections.deque(xrange(10))\n",
      "print 'Normal :', d\n",
      "\n",
      "d = collections.deque(xrange(10))\n",
      "d.rotate(2)\n",
      "print 'Right rotation:', d\n",
      "\n",
      "d = collections.deque(xrange(10))\n",
      "d.rotate(-2)\n",
      "print 'Left rotation :', d"
     ],
     "language": "python",
     "metadata": {},
     "outputs": [
      {
       "output_type": "stream",
       "stream": "stdout",
       "text": [
        "Normal : deque([0, 1, 2, 3, 4, 5, 6, 7, 8, 9])\n",
        "Right rotation: deque([8, 9, 0, 1, 2, 3, 4, 5, 6, 7])\n",
        "Left rotation : deque([2, 3, 4, 5, 6, 7, 8, 9, 0, 1])\n"
       ]
      }
     ],
     "prompt_number": 46
    },
    {
     "cell_type": "markdown",
     "metadata": {},
     "source": [
      "**See Also:\n",
      "\n",
      "[Deque](http://en.wikipedia.org/wiki/Deque) Wikipedia article that provides a discussion of the deque data structure.\n",
      "\n",
      "[Deque Recipes](https://docs.python.org/release/2.6.4/library/collections.html?highlight=deque#deque-recipes) Examples of using\n",
      "deques in algorithms from the standard library documentation."
     ]
    },
    {
     "cell_type": "markdown",
     "metadata": {},
     "source": [
      "**Recipes**\n",
      "\n",
      "Bounded length deques provide functionality similar to the tail filter in Unix:"
     ]
    },
    {
     "cell_type": "code",
     "collapsed": false,
     "input": [
      "def tail(filename, n=10):\n",
      "    'Return the last n lines of a file'\n",
      "    return collections.deque(open(filename), n)\n",
      "\n",
      "print '\\n'.join(tail('styles/custom.css', 10))"
     ],
     "language": "python",
     "metadata": {},
     "outputs": [
      {
       "output_type": "stream",
       "stream": "stdout",
       "text": [
        "                tex2jax: {\n",
        "\n",
        "                    inlineMath: [ ['$','$'], [\"\\\\(\",\"\\\\)\"] ],\n",
        "\n",
        "                    displayMath: [ ['$$','$$'], [\"\\\\[\",\"\\\\]\"] ]\n",
        "\n",
        "                },\n",
        "\n",
        "                displayAlign: 'center', // Change this to 'center' to center equations.\n",
        "\n",
        "                \"HTML-CSS\": {\n",
        "\n",
        "                    styles: {'.MathJax_Display': {\"margin\": 4}}\n",
        "\n",
        "                }\n",
        "\n",
        "        });\n",
        "\n",
        "</script>\n",
        "\n"
       ]
      }
     ],
     "prompt_number": 57
    },
    {
     "cell_type": "markdown",
     "metadata": {},
     "source": [
      "Another approach to using deques is to maintain a sequence of recently added elements by appending to the right and popping to the left:"
     ]
    },
    {
     "cell_type": "code",
     "collapsed": false,
     "input": [
      "def moving_average(iterable, n=3):\n",
      "    # moving_average([40, 30, 50, 46, 39, 44]) --> 40.0 42.0 45.0 43.0\n",
      "    # http://en.wikipedia.org/wiki/Moving_average\n",
      "    it = iter(iterable)\n",
      "    d = collections.deque(itertools.islice(it, n-1))\n",
      "    d.appendleft(0)\n",
      "    s = sum(d)\n",
      "    for elem in it:\n",
      "        s += elem - d.popleft()\n",
      "        d.append(elem)\n",
      "        yield s / float(n)\n",
      "\n",
      "avg = moving_average([40, 30, 50, 46, 39, 44])\n",
      "list(avg)"
     ],
     "language": "python",
     "metadata": {},
     "outputs": [
      {
       "metadata": {},
       "output_type": "pyout",
       "prompt_number": 56,
       "text": [
        "[40.0, 42.0, 45.0, 43.0]"
       ]
      }
     ],
     "prompt_number": 56
    },
    {
     "cell_type": "markdown",
     "metadata": {},
     "source": [
      "The rotate() method provides a way to implement `deque` slicing and deletion. For example, a pure python implementation of `del d[n]` relies on the `rotate()` method to position elements to be popped:"
     ]
    },
    {
     "cell_type": "code",
     "collapsed": false,
     "input": [
      "def delete_nth(d, n):\n",
      "    d.rotate(-n)\n",
      "    d.popleft()\n",
      "    d.rotate(n)"
     ],
     "language": "python",
     "metadata": {},
     "outputs": []
    },
    {
     "cell_type": "markdown",
     "metadata": {},
     "source": [
      "To implement `deque` slicing, use a similar approach applying `rotate()` to bring a target element to the left side of the `deque`. Remove old entries with `popleft()`, add new entries with `extend()`, and then reverse the rotation. With minor variations on that approach, it is easy to implement [Forth style stack manipulations](http://en.wikipedia.org/wiki/Stack-oriented_programming_language) such as dup, drop, swap, over, pick, rot, and roll."
     ]
    },
    {
     "cell_type": "markdown",
     "metadata": {},
     "source": [
      "##namedtuple\n",
      "\n",
      "`namedtuple` instances are just as memory efficient as regular tuples because they do\n",
      "not have per-instance dictionaries. Each kind of `namedtuple` is represented by its own\n",
      "class, created by using the `namedtuple()` factory function. The arguments are the\n",
      "name of the new class and a string containing the names of the elements\n",
      "\n",
      "[Named Tuples (Python recipe)](http://code.activestate.com/recipes/500261/) adapted for Python 2.4."
     ]
    },
    {
     "cell_type": "code",
     "collapsed": false,
     "input": [],
     "language": "python",
     "metadata": {},
     "outputs": []
    },
    {
     "cell_type": "code",
     "collapsed": false,
     "input": [
      "Person = collections.namedtuple('Person', 'name age gender')\n",
      "print 'Type of Person:', type(Person)\n",
      "\n",
      "bob = Person(name='Bob', age=30, gender='male')\n",
      "print '\\nRepresentation:', bob\n",
      "\n",
      "jane = Person(name='Jane', age=29, gender='female')\n",
      "\n",
      "print '\\nField by name:', jane.name\n",
      "\n",
      "print '\\nFields by index:'\n",
      "for p in [ bob, jane ]:\n",
      "    print '%s is a %d year old %s' % p"
     ],
     "language": "python",
     "metadata": {},
     "outputs": [
      {
       "output_type": "stream",
       "stream": "stdout",
       "text": [
        "Type of Person: <type 'type'>\n",
        "\n",
        "Representation: Person(name='Bob', age=30, gender='male')\n",
        "\n",
        "Field by name: Jane\n",
        "\n",
        "Fields by index:\n",
        "Bob is a 30 year old male\n",
        "Jane is a 29 year old female\n"
       ]
      }
     ],
     "prompt_number": 58
    },
    {
     "cell_type": "markdown",
     "metadata": {},
     "source": [
      "**Invalid Field Names**\n",
      "\n",
      "Field names are invalid if they are repeated or conflict with Python keywords."
     ]
    },
    {
     "cell_type": "code",
     "collapsed": false,
     "input": [
      "try:\n",
      "    collections.namedtuple('Person', 'name class age gender')\n",
      "except ValueError, err:\n",
      "    print err\n",
      "\n",
      "try:\n",
      "    collections.namedtuple('Person', 'name age gender age')\n",
      "except ValueError, err:\n",
      "    print err"
     ],
     "language": "python",
     "metadata": {},
     "outputs": [
      {
       "output_type": "stream",
       "stream": "stdout",
       "text": [
        "Type names and field names cannot be a keyword: 'class'\n",
        "Encountered duplicate field name: 'age'\n"
       ]
      }
     ],
     "prompt_number": 59
    },
    {
     "cell_type": "markdown",
     "metadata": {},
     "source": [
      "If a `namedtuple` is being created based on values outside of the control of the program (such as to represent the rows returned by a database query, where the schema is not known in advance), set the *rename* option to `True` so the invalid fields are renamed.\n",
      "\n",
      "The new names for renamed fields depend on their index in the `tuple`, so the field\n",
      "with name class becomes `_1` and the duplicate age field is changed to `_3`."
     ]
    },
    {
     "cell_type": "code",
     "collapsed": false,
     "input": [
      "with_class = collections.namedtuple(\n",
      "    'Person', 'name class age gender',\n",
      "    rename=True)\n",
      "print with_class._fields\n",
      "\n",
      "two_ages = collections.namedtuple(\n",
      "    'Person', 'name age gender age',\n",
      "    rename=True)\n",
      "print two_ages._fields"
     ],
     "language": "python",
     "metadata": {},
     "outputs": [
      {
       "output_type": "stream",
       "stream": "stdout",
       "text": [
        "('name', '_1', 'age', 'gender')\n",
        "('name', 'age', 'gender', '_3')\n"
       ]
      }
     ],
     "prompt_number": 60
    },
    {
     "cell_type": "markdown",
     "metadata": {},
     "source": [
      "[namedtuple](https://docs.python.org/release/2.6.4/library/collections.html?highlight=deque#namedtuple-factory-function-for-tuples-with-named-fields) Python docs namedtuple example"
     ]
    },
    {
     "cell_type": "code",
     "collapsed": false,
     "input": [
      ">>> Point = collections.namedtuple('Point', 'x y', verbose=True)\n",
      "\n",
      ">>> p = Point(11, y=22)     # instantiate with positional or keyword arguments\n",
      ">>> p[0] + p[1]             # indexable like the plain tuple (11, 22)\n",
      ">>> x, y = p                # unpack like a regular tuple\n",
      ">>> x, y\n",
      ">>> p.x + p.y               # fields also accessible by name\n",
      ">>> p                       # readable __repr__ with a name=value style"
     ],
     "language": "python",
     "metadata": {},
     "outputs": [
      {
       "output_type": "stream",
       "stream": "stdout",
       "text": [
        "class Point(tuple):\n",
        "    'Point(x, y)'\n",
        "\n",
        "    __slots__ = ()\n",
        "\n",
        "    _fields = ('x', 'y')\n",
        "\n",
        "    def __new__(_cls, x, y):\n",
        "        'Create new instance of Point(x, y)'\n",
        "        return _tuple.__new__(_cls, (x, y))\n",
        "\n",
        "    @classmethod\n",
        "    def _make(cls, iterable, new=tuple.__new__, len=len):\n",
        "        'Make a new Point object from a sequence or iterable'\n",
        "        result = new(cls, iterable)\n",
        "        if len(result) != 2:\n",
        "            raise TypeError('Expected 2 arguments, got %d' % len(result))\n",
        "        return result\n",
        "\n",
        "    def __repr__(self):\n",
        "        'Return a nicely formatted representation string'\n",
        "        return 'Point(x=%r, y=%r)' % self\n",
        "\n",
        "    def _asdict(self):\n",
        "        'Return a new OrderedDict which maps field names to their values'\n",
        "        return OrderedDict(zip(self._fields, self))\n",
        "\n",
        "    def _replace(_self, **kwds):\n",
        "        'Return a new Point object replacing specified fields with new values'\n",
        "        result = _self._make(map(kwds.pop, ('x', 'y'), _self))\n",
        "        if kwds:\n",
        "            raise ValueError('Got unexpected field names: %r' % kwds.keys())\n",
        "        return result\n",
        "\n",
        "    def __getnewargs__(self):\n",
        "        'Return self as a plain tuple.  Used by copy and pickle.'\n",
        "        return tuple(self)\n",
        "\n",
        "    x = _property(_itemgetter(0), doc='Alias for field number 0')\n",
        "\n",
        "    y = _property(_itemgetter(1), doc='Alias for field number 1')\n",
        "\n",
        "\n"
       ]
      },
      {
       "metadata": {},
       "output_type": "pyout",
       "prompt_number": 66,
       "text": [
        "Point(x=11, y=22)"
       ]
      }
     ],
     "prompt_number": 66
    },
    {
     "cell_type": "markdown",
     "metadata": {},
     "source": [
      "Class method that makes a new instance from an existing sequence or iterable."
     ]
    },
    {
     "cell_type": "code",
     "collapsed": false,
     "input": [
      ">>> t = [11, 22]\n",
      ">>> Point._make(t)"
     ],
     "language": "python",
     "metadata": {},
     "outputs": [
      {
       "metadata": {},
       "output_type": "pyout",
       "prompt_number": 68,
       "text": [
        "Point(x=11, y=22)"
       ]
      }
     ],
     "prompt_number": 68
    },
    {
     "cell_type": "markdown",
     "metadata": {},
     "source": [
      "Return a new dict which maps field names to their corresponding values:"
     ]
    },
    {
     "cell_type": "code",
     "collapsed": false,
     "input": [
      ">>> p._asdict()"
     ],
     "language": "python",
     "metadata": {},
     "outputs": [
      {
       "metadata": {},
       "output_type": "pyout",
       "prompt_number": 69,
       "text": [
        "OrderedDict([('x', 11), ('y', 22)])"
       ]
      }
     ],
     "prompt_number": 69
    },
    {
     "cell_type": "markdown",
     "metadata": {},
     "source": [
      "Return a new instance of the named tuple replacing specified fields with new values:"
     ]
    },
    {
     "cell_type": "code",
     "collapsed": false,
     "input": [
      ">>> p = Point(x=11, y=22)\n",
      ">>> p._replace(x=33)"
     ],
     "language": "python",
     "metadata": {},
     "outputs": []
    },
    {
     "cell_type": "markdown",
     "metadata": {},
     "source": [
      "Tuple of strings listing the field names. Useful for introspection and for creating new named tuple types from existing named tuples."
     ]
    },
    {
     "cell_type": "code",
     "collapsed": false,
     "input": [
      ">>> p._fields            # view the field names\n",
      "... print p._fields\n",
      ">>> Color = collections.namedtuple('Color', 'red green blue')\n",
      "... print Color._fields\n",
      ">>> Pixel = collections.namedtuple('Pixel', Point._fields + Color._fields)\n",
      ">>> Pixel(11, 22, 128, 255, 0)"
     ],
     "language": "python",
     "metadata": {},
     "outputs": [
      {
       "output_type": "stream",
       "stream": "stdout",
       "text": [
        "('x', 'y')\n",
        "('red', 'green', 'blue')\n"
       ]
      },
      {
       "metadata": {},
       "output_type": "pyout",
       "prompt_number": 81,
       "text": [
        "Pixel(x=11, y=22, red=128, green=255, blue=0)"
       ]
      }
     ],
     "prompt_number": 81
    },
    {
     "cell_type": "markdown",
     "metadata": {},
     "source": [
      "To retrieve a field whose name is stored in a string, use the `getattr()` function:"
     ]
    },
    {
     "cell_type": "code",
     "collapsed": false,
     "input": [
      ">>> getattr(p, 'x')"
     ],
     "language": "python",
     "metadata": {},
     "outputs": [
      {
       "metadata": {},
       "output_type": "pyout",
       "prompt_number": 72,
       "text": [
        "11"
       ]
      }
     ],
     "prompt_number": 72
    },
    {
     "cell_type": "markdown",
     "metadata": {},
     "source": [
      "To convert a dictionary to a named tuple, use the double-star-operator (as described in [Unpacking Argument Lists](https://docs.python.org/release/2.6.4/tutorial/controlflow.html#tut-unpacking-arguments)):"
     ]
    },
    {
     "cell_type": "code",
     "collapsed": false,
     "input": [
      ">>> d = {'x': 11, 'y': 22}\n",
      ">>> Point(**d)"
     ],
     "language": "python",
     "metadata": {},
     "outputs": [
      {
       "metadata": {},
       "output_type": "pyout",
       "prompt_number": 73,
       "text": [
        "Point(x=11, y=22)"
       ]
      }
     ],
     "prompt_number": 73
    },
    {
     "cell_type": "markdown",
     "metadata": {},
     "source": [
      "Since a named tuple is a regular Python class, it is easy to add or change functionality with a subclass. Here is how to add a calculated field and a fixed-width print format:"
     ]
    },
    {
     "cell_type": "code",
     "collapsed": false,
     "input": [
      ">>> class Point(collections.namedtuple('Point', 'x y')):\n",
      "...     __slots__ = ()\n",
      "...     @property\n",
      "...     def hypot(self):\n",
      "...         return (self.x ** 2 + self.y ** 2) ** 0.5\n",
      "...     def __str__(self):\n",
      "...         return 'Point: x=%6.3f  y=%6.3f  hypot=%6.3f' % (self.x, self.y, self.hypot)"
     ],
     "language": "python",
     "metadata": {},
     "outputs": [],
     "prompt_number": 75
    },
    {
     "cell_type": "code",
     "collapsed": false,
     "input": [
      ">>> for p in Point(3, 4), Point(14, 5/7.):\n",
      "...     print p"
     ],
     "language": "python",
     "metadata": {},
     "outputs": [
      {
       "output_type": "stream",
       "stream": "stdout",
       "text": [
        "Point: x= 3.000  y= 4.000  hypot= 5.000\n",
        "Point: x=14.000  y= 0.714  hypot=14.018\n"
       ]
      }
     ],
     "prompt_number": 77
    },
    {
     "cell_type": "markdown",
     "metadata": {},
     "source": [
      "The subclass shown above sets `__slots__` to an empty tuple. This keeps keep memory requirements low by preventing the creation of instance dictionaries.\n",
      "\n",
      "Subclassing is not useful for adding new, stored fields. Instead, simply create a new named tuple type from the `_fields` attribute:"
     ]
    },
    {
     "cell_type": "code",
     "collapsed": false,
     "input": [
      ">>> Point3D = collections.namedtuple('Point3D', Point._fields + ('z',))"
     ],
     "language": "python",
     "metadata": {},
     "outputs": [],
     "prompt_number": 83
    },
    {
     "cell_type": "markdown",
     "metadata": {},
     "source": [
      "Default values can be implemented by using `_replace()` to customize a prototype instance:"
     ]
    },
    {
     "cell_type": "code",
     "collapsed": false,
     "input": [
      ">>> Account = collections.namedtuple('Account', 'owner balance transaction_count')\n",
      ">>> default_account = Account('<owner name>', 0.0, 0)\n",
      "... print default_account\n",
      ">>> johns_account = default_account._replace(owner='John')\n",
      "... print johns_account"
     ],
     "language": "python",
     "metadata": {},
     "outputs": [
      {
       "output_type": "stream",
       "stream": "stdout",
       "text": [
        "Account(owner='<owner name>', balance=0.0, transaction_count=0)\n",
        "Account(owner='John', balance=0.0, transaction_count=0)\n"
       ]
      }
     ],
     "prompt_number": 87
    },
    {
     "cell_type": "markdown",
     "metadata": {},
     "source": [
      "Enumerated constants can be implemented with named tuples, but it is simpler and more efficient to use a simple class declaration:"
     ]
    },
    {
     "cell_type": "code",
     "collapsed": false,
     "input": [
      ">>> Status = collections.namedtuple('Status', 'open pending closed')._make(range(3))\n",
      ">>> print Status.open, Status.pending, Status.closed\n",
      ">>> class Status:\n",
      "...     open, pending, closed = range(3)\n",
      ">>> print Status.__dict__"
     ],
     "language": "python",
     "metadata": {},
     "outputs": [
      {
       "output_type": "stream",
       "stream": "stdout",
       "text": [
        "0 1 2\n",
        "{'__module__': '__main__', 'open': 0, 'closed': 2, 'pending': 1, '__doc__': None}\n"
       ]
      }
     ],
     "prompt_number": 90
    },
    {
     "cell_type": "markdown",
     "metadata": {},
     "source": [
      "##OrderedDict\n",
      "\n",
      "[Ordered Dictionary for Py2.4 (Python recipe)](http://code.activestate.com/recipes/576693/)"
     ]
    },
    {
     "cell_type": "code",
     "collapsed": false,
     "input": [
      "print 'Regular dictionary:'\n",
      "d = {}\n",
      "d['a'] = 'A'\n",
      "d['b'] = 'B'\n",
      "d['c'] = 'C'\n",
      "\n",
      "for k, v in d.items():\n",
      "    print k, v\n",
      "\n",
      "print '\\nOrderedDict:'\n",
      "d = collections.OrderedDict()\n",
      "d['a'] = 'A'\n",
      "d['b'] = 'B'\n",
      "d['c'] = 'C'\n",
      "\n",
      "for k, v in d.items():\n",
      "    print k, v\n"
     ],
     "language": "python",
     "metadata": {},
     "outputs": [
      {
       "output_type": "stream",
       "stream": "stdout",
       "text": [
        "Regular dictionary:\n",
        "a A\n",
        "c C\n",
        "b B\n",
        "\n",
        "OrderedDict:\n",
        "a A\n",
        "b B\n",
        "c C\n"
       ]
      }
     ],
     "prompt_number": 61
    },
    {
     "cell_type": "markdown",
     "metadata": {},
     "source": [
      "**Equality**\n",
      "\n",
      "A regular `dict` looks at its contents when testing for equality. An `OrderedDict` also\n",
      "considers the order the items were added."
     ]
    },
    {
     "cell_type": "code",
     "collapsed": false,
     "input": [
      "print 'dict :',\n",
      "d1 = {}\n",
      "d1['a'] = 'A'\n",
      "d1['b'] = 'B'\n",
      "d1['c'] = 'C'\n",
      "\n",
      "d2 = {}\n",
      "d2['c'] = 'C'\n",
      "d2['b'] = 'B'\n",
      "d2['a'] = 'A'\n",
      "\n",
      "print d1 == d2\n",
      "\n",
      "print 'OrderedDict:',\n",
      "d1 = collections.OrderedDict()\n",
      "d1['a'] = 'A'\n",
      "d1['b'] = 'B'\n",
      "d1['c'] = 'C'\n",
      "\n",
      "d2 = collections.OrderedDict()\n",
      "d2['c'] = 'C'\n",
      "d2['b'] = 'B'\n",
      "d2['a'] = 'A'\n",
      "\n",
      "print d1 == d2"
     ],
     "language": "python",
     "metadata": {},
     "outputs": [
      {
       "output_type": "stream",
       "stream": "stdout",
       "text": [
        "dict : True\n",
        "OrderedDict: False\n"
       ]
      }
     ],
     "prompt_number": 63
    },
    {
     "cell_type": "markdown",
     "metadata": {},
     "source": [
      "##array\n",
      "\n",
      "An `array` is instantiated with an argument describing the type of data to be allowed,\n",
      "and possibly an initial sequence of data to store in the array."
     ]
    },
    {
     "cell_type": "code",
     "collapsed": false,
     "input": [
      "import array\n",
      "import binascii\n",
      "import pprint"
     ],
     "language": "python",
     "metadata": {},
     "outputs": []
    },
    {
     "cell_type": "code",
     "collapsed": false,
     "input": [
      "s = 'This is the array.'\n",
      "a = array.array('c', s)\n",
      "print 'As string:', s\n",
      "print 'As array :', a\n",
      "print 'As hex :', binascii.hexlify(a)"
     ],
     "language": "python",
     "metadata": {},
     "outputs": [
      {
       "output_type": "stream",
       "stream": "stdout",
       "text": [
        "As string: This is the array.\n",
        "As array : array('c', 'This is the array.')\n",
        "As hex : 54686973206973207468652061727261792e\n"
       ]
      }
     ],
     "prompt_number": 92
    },
    {
     "cell_type": "code",
     "collapsed": false,
     "input": [
      "a = array.array('i', xrange(3))\n",
      "print 'Initial :', a\n",
      "\n",
      "a.extend(xrange(3))\n",
      "print 'Extended:', a\n",
      "\n",
      "print 'Slice :', a[2:5]\n",
      "\n",
      "print 'Iterator:'\n",
      "print list(enumerate(a))"
     ],
     "language": "python",
     "metadata": {},
     "outputs": [
      {
       "output_type": "stream",
       "stream": "stdout",
       "text": [
        "Initial : array('i', [0, 1, 2])\n",
        "Extended: array('i', [0, 1, 2, 0, 1, 2])\n",
        "Slice : array('i', [2, 0, 1])\n",
        "Iterator:\n",
        "[(0, 0), (1, 1), (2, 2), (3, 0), (4, 1), (5, 2)]\n"
       ]
      }
     ],
     "prompt_number": 93
    },
    {
     "cell_type": "code",
     "collapsed": false,
     "input": [
      "import tempfile"
     ],
     "language": "python",
     "metadata": {},
     "outputs": [],
     "prompt_number": 94
    },
    {
     "cell_type": "markdown",
     "metadata": {},
     "source": [
      "The contents of an `array` can be written to and read from files using built-in methods\n",
      "coded efficiently for that purpose.\n",
      "\n",
      "This example illustrates reading the data raw, directly from the binary file, versus\n",
      "reading it into a new array and converting the bytes to the appropriate types."
     ]
    },
    {
     "cell_type": "code",
     "collapsed": false,
     "input": [
      "a = array.array('i', xrange(5))\n",
      "print 'A1:', a\n",
      "\n",
      "# Write the array of numbers to a temporary file\n",
      "# Note: If delete is true (the default), the file is deleted as soon as it is closed.\n",
      "output = tempfile.NamedTemporaryFile(delete=False)\n",
      "a.tofile(output.file) # must pass an *actual* file\n",
      "output.flush()\n",
      "\n",
      "# Read the raw data\n",
      "with open(output.name, 'rb') as input:\n",
      "    raw_data = input.read()\n",
      "    print 'Raw Contents:', binascii.hexlify(raw_data)\n",
      "\n",
      "    # Read the data into an array\n",
      "    input.seek(0)\n",
      "    a2 = array.array('i')\n",
      "    a2.fromfile(input, len(a))\n",
      "    print 'A2:', a2\n"
     ],
     "language": "python",
     "metadata": {},
     "outputs": [
      {
       "output_type": "stream",
       "stream": "stdout",
       "text": [
        "A1: array('i', [0, 1, 2, 3, 4])\n",
        "Raw Contents: 0000000001000000020000000300000004000000\n",
        "A2: array('i', [0, 1, 2, 3, 4])\n"
       ]
      }
     ],
     "prompt_number": 98
    },
    {
     "cell_type": "markdown",
     "metadata": {},
     "source": [
      "If the data in the array is not in the native byte order, or needs to be swapped before\n",
      "being sent to a system with a different byte order (or over the network), it is possible to\n",
      "convert the entire array without iterating over the elements from Python."
     ]
    },
    {
     "cell_type": "code",
     "collapsed": false,
     "input": [
      "def to_hex(a):\n",
      "    chars_per_item = a.itemsize * 2 # 2 hex digits\n",
      "    hex_version = binascii.hexlify(a)\n",
      "    num_chunks = len(hex_version) / chars_per_item\n",
      "    for i in xrange(num_chunks):\n",
      "        start = i*chars_per_item\n",
      "        end = start + chars_per_item\n",
      "        yield hex_version[start:end]"
     ],
     "language": "python",
     "metadata": {},
     "outputs": [],
     "prompt_number": 99
    },
    {
     "cell_type": "code",
     "collapsed": false,
     "input": [
      "a1 = array.array('i', xrange(5))\n",
      "a2 = array.array('i', xrange(5))\n",
      "a2.byteswap()\n",
      "\n",
      "fmt = '%10s %10s %10s %10s'\n",
      "print fmt % ('A1 hex', 'A1', 'A2 hex', 'A2')\n",
      "print fmt % (('-' * 10,) * 4)\n",
      "for values in zip(to_hex(a1), a1, to_hex(a2), a2):\n",
      "    print fmt % values"
     ],
     "language": "python",
     "metadata": {},
     "outputs": [
      {
       "output_type": "stream",
       "stream": "stdout",
       "text": [
        "    A1 hex         A1     A2 hex         A2\n",
        "---------- ---------- ---------- ----------\n",
        "  00000000          0   00000000          0\n",
        "  01000000          1   00000001   16777216\n",
        "  02000000          2   00000002   33554432\n",
        "  03000000          3   00000003   50331648\n",
        "  04000000          4   00000004   67108864\n"
       ]
      }
     ],
     "prompt_number": 100
    },
    {
     "cell_type": "markdown",
     "metadata": {},
     "source": [
      "##bisect\n",
      "Maintain Lists in Sorted Order\n",
      "\n",
      "**Purpose** Maintains a list in sorted order without having to call sort each\n",
      "time an item is added to the list.\n",
      "\n",
      "The `bisect` module implements an algorithm for inserting elements into a list while\n",
      "maintaining the list in sorted order. For some cases, this is more efficient than repeatedly\n",
      "sorting a list or explicitly sorting a large list after it is constructed.\n",
      "\n",
      "This is a simple example, and for the amount of data being manipulated, it might\n",
      "be faster to simply build the list and then sort it once. But for long lists, significant time\n",
      "and memory savings can be achieved using an insertion sort algorithm such as this one."
     ]
    },
    {
     "cell_type": "code",
     "collapsed": false,
     "input": [
      "import bisect\n",
      "import random"
     ],
     "language": "python",
     "metadata": {},
     "outputs": [],
     "prompt_number": 127
    },
    {
     "cell_type": "code",
     "collapsed": false,
     "input": [
      "# Use a constant seed to ensure that\n",
      "# the same pseudo-random numbers\n",
      "# are used each time the loop is run.\n",
      "random.seed(1)\n",
      "\n",
      "print 'New Pos Contents'\n",
      "print '--- --- --------'\n",
      "\n",
      "# Generate random numbers and\n",
      "# insert them into a list in sorted\n",
      "# order.\n",
      "l = []\n",
      "for i in range(1, 15):\n",
      "    r = random.randint(1, 100)\n",
      "    position = bisect.bisect(l, r)\n",
      "    bisect.insort(l, r)\n",
      "    print '%3d %3d' % (r, position), l\n"
     ],
     "language": "python",
     "metadata": {},
     "outputs": [
      {
       "output_type": "stream",
       "stream": "stdout",
       "text": [
        "New Pos Contents\n",
        "--- --- --------\n",
        " 14   0 [14]\n",
        " 85   1 [14, 85]\n",
        " 77   1 [14, 77, 85]\n",
        " 26   1 [14, 26, 77, 85]\n",
        " 50   2 [14, 26, 50, 77, 85]\n",
        " 45   2 [14, 26, 45, 50, 77, 85]\n",
        " 66   4 [14, 26, 45, 50, 66, 77, 85]\n",
        " 79   6 [14, 26, 45, 50, 66, 77, 79, 85]\n",
        " 10   0 [10, 14, 26, 45, 50, 66, 77, 79, 85]\n",
        "  3   0 [3, 10, 14, 26, 45, 50, 66, 77, 79, 85]\n",
        " 84   9 [3, 10, 14, 26, 45, 50, 66, 77, 79, 84, 85]\n",
        " 44   4 [3, 10, 14, 26, 44, 45, 50, 66, 77, 79, 84, 85]\n",
        " 77   9 [3, 10, 14, 26, 44, 45, 50, 66, 77, 77, 79, 84, 85]\n",
        "  1   0 [1, 3, 10, 14, 26, 44, 45, 50, 66, 77, 77, 79, 84, 85]\n"
       ]
      }
     ],
     "prompt_number": 128
    },
    {
     "cell_type": "code",
     "collapsed": false,
     "input": [
      "random.seed(1)\n",
      "\n",
      "print 'New Pos Contents'\n",
      "print '--- --- --------'\n",
      "# Use bisect_left and insort_left.\n",
      "l = []\n",
      "for i in range(1, 15):\n",
      "    r = random.randint(1, 100)\n",
      "    position = bisect.bisect_left(l, r)\n",
      "    bisect.insort_left(l, r)\n",
      "    print '%3d %3d' % (r, position), l"
     ],
     "language": "python",
     "metadata": {},
     "outputs": [
      {
       "output_type": "stream",
       "stream": "stdout",
       "text": [
        "New Pos Contents\n",
        "--- --- --------\n",
        " 14   0 [14]\n",
        " 85   1 [14, 85]\n",
        " 77   1 [14, 77, 85]\n",
        " 26   1 [14, 26, 77, 85]\n",
        " 50   2 [14, 26, 50, 77, 85]\n",
        " 45   2 [14, 26, 45, 50, 77, 85]\n",
        " 66   4 [14, 26, 45, 50, 66, 77, 85]\n",
        " 79   6 [14, 26, 45, 50, 66, 77, 79, 85]\n",
        " 10   0 [10, 14, 26, 45, 50, 66, 77, 79, 85]\n",
        "  3   0 [3, 10, 14, 26, 45, 50, 66, 77, 79, 85]\n",
        " 84   9 [3, 10, 14, 26, 45, 50, 66, 77, 79, 84, 85]\n",
        " 44   4 [3, 10, 14, 26, 44, 45, 50, 66, 77, 79, 84, 85]\n",
        " 77   8 [3, 10, 14, 26, 44, 45, 50, 66, 77, 77, 79, 84, 85]\n",
        "  1   0 [1, 3, 10, 14, 26, 44, 45, 50, 66, 77, 77, 79, 84, 85]\n"
       ]
      }
     ],
     "prompt_number": 130
    },
    {
     "cell_type": "markdown",
     "metadata": {},
     "source": [
      "##weakref"
     ]
    },
    {
     "cell_type": "markdown",
     "metadata": {},
     "source": [
      "**Cyclic References**\n",
      "\n",
      "One use for weak references is to allow cyclic references without preventing garbage\n",
      "collection. This example illustrates the difference between using regular objects and\n",
      "proxies when a graph includes a cycle.\n",
      "\n",
      "The Graph class in `weakref_graph.py` accepts any object given to it as the\n",
      "\u201cnext\u201d node in the sequence. For the sake of brevity, this implementation supports a single outgoing reference from each node, which is of limited use generally, but\n",
      "makes it easy to create cycles for these examples. The `function demo()` is a utility\n",
      "function to exercise the Graph class by creating a cycle and then removing various\n",
      "references"
     ]
    },
    {
     "cell_type": "code",
     "collapsed": false,
     "input": [
      "%%writefile weakref_graph.py\n",
      "\n",
      "import gc\n",
      "from pprint import pprint\n",
      "import weakref\n",
      "\n",
      "\n",
      "class Graph(object):\n",
      "    def __init__(self, name):\n",
      "        self.name = name\n",
      "        self.other = None\n",
      "        \n",
      "    def set_next(self, other):\n",
      "        print '%s.set_next(%r)' % (self.name, other)\n",
      "        self.other = other\n",
      "    \n",
      "    def all_nodes(self):\n",
      "        '''Generate the nodes in the graph sequence.'''\n",
      "        yield self\n",
      "        n = self.other\n",
      "        while n and n.name != self.name:\n",
      "            yield n\n",
      "            n = n.other\n",
      "        if n is self:\n",
      "            yield n\n",
      "        return\n",
      "    \n",
      "    def __str__(self):\n",
      "        return '->'.join(n.name for n in self.all_nodes())\n",
      "    \n",
      "    def __repr__(self):\n",
      "        return '<%s at 0x%x name=%s>' % (self.__class__.__name__, id(self), self.name)\n",
      "\n",
      "    def __del__(self):\n",
      "        print '(Deleting %s)' % self.name\n",
      "        self.set_next(None)\n",
      "\n",
      "        \n",
      "def collect_and_show_garbage():\n",
      "    '''Show what garbage is present.'''\n",
      "    print 'Collecting...'\n",
      "    n = gc.collect()\n",
      "    print 'Unreachable objects:', n\n",
      "    print 'Garbage:',\n",
      "    pprint(gc.garbage)\n",
      "\n",
      "    \n",
      "def demo(graph_factory):\n",
      "    print 'Set up graph:'\n",
      "    one = graph_factory('one')\n",
      "    two = graph_factory('two')\n",
      "    three = graph_factory('three')\n",
      "    one.set_next(two)\n",
      "    two.set_next(three)\n",
      "    three.set_next(one)\n",
      "\n",
      "    print\n",
      "    print 'Graph:'\n",
      "    print str(one)\n",
      "    collect_and_show_garbage()\n",
      "\n",
      "    print\n",
      "    three = None\n",
      "    two = None\n",
      "    print 'After 2 references removed:'\n",
      "    print str(one)\n",
      "    collect_and_show_garbage()\n",
      "\n",
      "    print\n",
      "    print 'Removing last reference:'\n",
      "    one = None\n",
      "    collect_and_show_garbage()"
     ],
     "language": "python",
     "metadata": {},
     "outputs": [
      {
       "output_type": "stream",
       "stream": "stdout",
       "text": [
        "Overwriting weakref_graph.py\n"
       ]
      }
     ],
     "prompt_number": 126
    },
    {
     "cell_type": "markdown",
     "metadata": {},
     "source": [
      "This example uses the gc module to help debug the leak. The `DEBUG_LEAK` flag\n",
      "causes `gc` to print information about objects that cannot be seen, other than through the\n",
      "reference the garbage collector has to them."
     ]
    },
    {
     "cell_type": "code",
     "collapsed": false,
     "input": [
      "%%writefile weakref_cycle.py\n",
      "\n",
      "import gc\n",
      "from weakref_graph import Graph, demo, collect_and_show_garbage\n",
      "\n",
      "\n",
      "gc.set_debug(gc.DEBUG_LEAK)\n",
      "\n",
      "print 'Setting up the cycle'\n",
      "print\n",
      "demo(Graph)\n",
      "\n",
      "print\n",
      "print 'Breaking the cycle and cleaning up garbage'\n",
      "print\n",
      "gc.garbage[0].set_next(None)\n",
      "while gc.garbage:\n",
      "    del gc.garbage[0]\n",
      "print\n",
      "collect_and_show_garbage()"
     ],
     "language": "python",
     "metadata": {},
     "outputs": [
      {
       "output_type": "stream",
       "stream": "stdout",
       "text": [
        "Overwriting weakref_cycle.py\n"
       ]
      }
     ],
     "prompt_number": 122
    },
    {
     "cell_type": "markdown",
     "metadata": {},
     "source": [
      "Even after deleting the local references to the Graph instances in demo(), the\n",
      "graphs all show up in the garbage list and cannot be collected. Several dictionaries are\n",
      "also found in the garbage list. They are the `__dict__` values from the Graph instances\n",
      "and contain the attributes for those objects. The graphs can be forcibly deleted, since the\n",
      "program knows what they are. Enabling unbuffered I/O by passing the `-u` option to the\n",
      "interpreter ensures that the output from the print statements in this example program\n",
      "(written to standard output) and the debug output from gc (written to standard error)\n",
      "are interleaved correctly."
     ]
    },
    {
     "cell_type": "markdown",
     "metadata": {},
     "source": [
      "For some reason due to ipython notebook `%run weakref_cycle.py` will not execute correctly but python shell does. Pasting output below:"
     ]
    },
    {
     "cell_type": "markdown",
     "metadata": {},
     "source": [
      "    python -u weakref_cycle.py"
     ]
    },
    {
     "cell_type": "markdown",
     "metadata": {},
     "source": [
      "    L:\\Documents\\ipython\\python_std_lib_by_example\\notebooks>python -u weakref_cycle\n",
      "    .py\n",
      "    Setting up the cycle\n",
      "    \n",
      "    Set up graph:\n",
      "    one.set_next(<Graph at 0x1fc38f0 name=two>)\n",
      "    two.set_next(<Graph at 0x1fc3910 name=three>)\n",
      "    three.set_next(<Graph at 0x1fc32b0 name=one>)\n",
      "    \n",
      "    Graph:\n",
      "    one->two->three->one\n",
      "    Collecting...\n",
      "    Unreachable objects: 0\n",
      "    Garbage:[]\n",
      "    \n",
      "    After 2 references removed:\n",
      "    one->two->three->one\n",
      "    Collecting...\n",
      "    Unreachable objects: 0\n",
      "    Garbage:[]\n",
      "    \n",
      "    Removing last reference:\n",
      "    Collecting...\n",
      "    gc: uncollectable <Graph 01FC32B0>\n",
      "    gc: uncollectable <Graph 01FC38F0>\n",
      "    gc: uncollectable <Graph 01FC3910>\n",
      "    gc: uncollectable <dict 01F664B0>\n",
      "    gc: uncollectable <dict 01F66300>\n",
      "    gc: uncollectable <dict 01F666F0>\n",
      "    Unreachable objects: 6\n",
      "    Garbage:[<Graph at 0x1fc32b0 name=one>,\n",
      "     <Graph at 0x1fc38f0 name=two>,\n",
      "     <Graph at 0x1fc3910 name=three>,\n",
      "     {'name': 'one', 'other': <Graph at 0x1fc38f0 name=two>},\n",
      "     {'name': 'two', 'other': <Graph at 0x1fc3910 name=three>},\n",
      "     {'name': 'three', 'other': <Graph at 0x1fc32b0 name=one>}]\n",
      "    \n",
      "    Breaking the cycle and cleaning up garbage\n",
      "    \n",
      "    one.set_next(None)\n",
      "    (Deleting two)\n",
      "    two.set_next(None)\n",
      "    (Deleting three)\n",
      "    three.set_next(None)\n",
      "    (Deleting one)\n",
      "    one.set_next(None)\n",
      "    \n",
      "    Collecting...\n",
      "    Unreachable objects: 0\n",
      "    Garbage:[]\n"
     ]
    },
    {
     "cell_type": "code",
     "collapsed": false,
     "input": [
      "#This makes everything pretty\n",
      "\n",
      "from IPython.core.display import HTML\n",
      "from urllib import urlopen\n",
      "def css_styling():\n",
      "    styles = open('styles/custom.css', 'r').read()\n",
      "    return HTML(styles)\n",
      "css_styling()"
     ],
     "language": "python",
     "metadata": {},
     "outputs": [
      {
       "html": [
        "<style>\n",
        "    @font-face {\n",
        "        font-family: \"Computer Modern\";\n",
        "        src: url('http://9dbb143991406a7c655e-aa5fcb0a5a4ec34cff238a2d56ca4144.r56.cf5.rackcdn.com/cmunss.otf');\n",
        "    }\n",
        "    @font-face {\n",
        "        font-family: \"Computer Modern\";\n",
        "        font-weight: bold;\n",
        "        src: url('http://9dbb143991406a7c655e-aa5fcb0a5a4ec34cff238a2d56ca4144.r56.cf5.rackcdn.com/cmunsx.otf');\n",
        "    }\n",
        "    @font-face {\n",
        "        font-family: \"Computer Modern\";\n",
        "        font-style: oblique;\n",
        "        src: url('http://9dbb143991406a7c655e-aa5fcb0a5a4ec34cff238a2d56ca4144.r56.cf5.rackcdn.com/cmunsi.otf');\n",
        "    }\n",
        "    @font-face {\n",
        "        font-family: \"Computer Modern\";\n",
        "        font-weight: bold;\n",
        "        font-style: oblique;\n",
        "        src: url('http://9dbb143991406a7c655e-aa5fcb0a5a4ec34cff238a2d56ca4144.r56.cf5.rackcdn.com/cmunso.otf');\n",
        "    }\n",
        "    div.cell{\n",
        "        width:800px;\n",
        "        margin-left:16% !important;\n",
        "        margin-right:auto;\n",
        "    }\n",
        "    h1 {\n",
        "        font-family: Helvetica, serif;\n",
        "    }\n",
        "    h4{\n",
        "        margin-top:12px;\n",
        "        margin-bottom: 3px;\n",
        "       }\n",
        "    div.text_cell_render{\n",
        "        font-family: Computer Modern, \"Helvetica Neue\", Arial, Helvetica, Geneva, sans-serif;\n",
        "        line-height: 145%;\n",
        "        font-size: 130%;\n",
        "        width:800px;\n",
        "        margin-left:auto;\n",
        "        margin-right:auto;\n",
        "    }\n",
        "    .CodeMirror{\n",
        "            font-family: \"Source Code Pro\", source-code-pro,Consolas, monospace;\n",
        "    }\n",
        "    .prompt{\n",
        "        display: None;\n",
        "    }\n",
        "    .text_cell_render h5 {\n",
        "        font-weight: 300;\n",
        "        font-size: 22pt;\n",
        "        color: #4057A1;\n",
        "        font-style: italic;\n",
        "        margin-bottom: .5em;\n",
        "        margin-top: 0.5em;\n",
        "        display: block;\n",
        "    }\n",
        "    \n",
        "    .warning{\n",
        "        color: rgb( 240, 20, 20 )\n",
        "        }  \n",
        "</style>\n",
        "<script>\n",
        "    MathJax.Hub.Config({\n",
        "                        TeX: {\n",
        "                           extensions: [\"AMSmath.js\"]\n",
        "                           },\n",
        "                tex2jax: {\n",
        "                    inlineMath: [ ['$','$'], [\"\\\\(\",\"\\\\)\"] ],\n",
        "                    displayMath: [ ['$$','$$'], [\"\\\\[\",\"\\\\]\"] ]\n",
        "                },\n",
        "                displayAlign: 'center', // Change this to 'center' to center equations.\n",
        "                \"HTML-CSS\": {\n",
        "                    styles: {'.MathJax_Display': {\"margin\": 4}}\n",
        "                }\n",
        "        });\n",
        "</script>\n"
       ],
       "metadata": {},
       "output_type": "pyout",
       "prompt_number": 1,
       "text": [
        "<IPython.core.display.HTML at 0x388d530>"
       ]
      }
     ],
     "prompt_number": 1
    },
    {
     "cell_type": "code",
     "collapsed": false,
     "input": [],
     "language": "python",
     "metadata": {},
     "outputs": []
    }
   ],
   "metadata": {}
  }
 ]
}