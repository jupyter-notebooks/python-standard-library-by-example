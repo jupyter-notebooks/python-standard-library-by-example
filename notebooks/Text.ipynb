{
 "metadata": {
  "name": "Text"
 },
 "nbformat": 3,
 "nbformat_minor": 0,
 "worksheets": [
  {
   "cells": [
    {
     "cell_type": "markdown",
     "metadata": {},
     "source": [
      "http://pymotw.com/2/\n",
      "\n",
      "##Strings"
     ]
    },
    {
     "cell_type": "markdown",
     "metadata": {},
     "source": [
      "The two functions capwords() and maketrans() are not moving from the string\n",
      "module. capwords() capitalizes all words in a string."
     ]
    },
    {
     "cell_type": "code",
     "collapsed": false,
     "input": [
      "import string"
     ],
     "language": "python",
     "metadata": {},
     "outputs": [],
     "prompt_number": 3
    },
    {
     "cell_type": "code",
     "collapsed": false,
     "input": [
      " s = 'The quick brown fox jumped over the lazy dog.'"
     ],
     "language": "python",
     "metadata": {},
     "outputs": [],
     "prompt_number": 1
    },
    {
     "cell_type": "code",
     "collapsed": false,
     "input": [
      "print s\n",
      "print string.capwords(s)"
     ],
     "language": "python",
     "metadata": {},
     "outputs": [
      {
       "output_type": "stream",
       "stream": "stdout",
       "text": [
        "The quick brown fox jumped over the lazy dog.\n",
        "The Quick Brown Fox Jumped Over The Lazy Dog.\n"
       ]
      }
     ],
     "prompt_number": 4
    },
    {
     "cell_type": "markdown",
     "metadata": {},
     "source": [
      "l33t (http://en.wikipedia.org/wiki/Leet) \u201cLeetspeak\u201d alternative alphabet."
     ]
    },
    {
     "cell_type": "code",
     "collapsed": false,
     "input": [
      "leet = string.maketrans('abegiloprstz', '463611092572')\n",
      "s = 'The quick brown fox jumped over the lazy dog.'"
     ],
     "language": "python",
     "metadata": {},
     "outputs": [],
     "prompt_number": 7
    },
    {
     "cell_type": "code",
     "collapsed": false,
     "input": [
      "print s\n",
      "print s.translate(leet)"
     ],
     "language": "python",
     "metadata": {},
     "outputs": [
      {
       "output_type": "stream",
       "stream": "stdout",
       "text": [
        "The quick brown fox jumped over the lazy dog.\n",
        "Th3 qu1ck 620wn f0x jum93d 0v32 7h3 142y d06.\n"
       ]
      }
     ],
     "prompt_number": 6
    },
    {
     "cell_type": "code",
     "collapsed": false,
     "input": [],
     "language": "python",
     "metadata": {},
     "outputs": []
    },
    {
     "cell_type": "markdown",
     "metadata": {},
     "source": [
      "String templates were added in Python 2.4 as part of PEP 292 and are intended as an\n",
      "alternative to the built-in interpolation syntax. With string.Template interpolation,\n",
      "variables are identified by prefixing the name with $ (e.g., $var) or, if necessary to\n",
      "set them off from surrounding text, they can also be wrapped with curly braces (e.g.,\n",
      "${var}).\n",
      "This example compares a simple template with a similar string interpolation using\n",
      "the % operator."
     ]
    },
    {
     "cell_type": "code",
     "collapsed": false,
     "input": [
      "values = { 'var':'foo' }\n",
      "\n",
      "t = string.Template('''\n",
      "Variable : $var\n",
      "Escape : $$\n",
      "Variable in text: ${var}iable\n",
      "''')"
     ],
     "language": "python",
     "metadata": {},
     "outputs": [],
     "prompt_number": 10
    },
    {
     "cell_type": "code",
     "collapsed": false,
     "input": [
      "print 'TEMPLATE:', t.substitute(values)"
     ],
     "language": "python",
     "metadata": {},
     "outputs": [
      {
       "output_type": "stream",
       "stream": "stdout",
       "text": [
        "TEMPLATE: \n",
        "Variable : foo\n",
        "Escape : $\n",
        "Variable in text: fooiable\n",
        "\n"
       ]
      }
     ],
     "prompt_number": 11
    },
    {
     "cell_type": "code",
     "collapsed": false,
     "input": [
      "s = '''\n",
      "Variable : %(var)s\n",
      "Escape : %%\n",
      "Variable in text: %(var)siable\n",
      "'''"
     ],
     "language": "python",
     "metadata": {},
     "outputs": [],
     "prompt_number": 12
    },
    {
     "cell_type": "code",
     "collapsed": false,
     "input": [
      "print 'INTERPOLATION:', s % values"
     ],
     "language": "python",
     "metadata": {},
     "outputs": [
      {
       "output_type": "stream",
       "stream": "stdout",
       "text": [
        "INTERPOLATION: \n",
        "Variable : foo\n",
        "Escape : %\n",
        "Variable in text: fooiable\n",
        "\n"
       ]
      }
     ],
     "prompt_number": 13
    },
    {
     "cell_type": "markdown",
     "metadata": {},
     "source": [
      "One key difference between templates and standard string interpolation is that the argument type is not considered. The values are converted to strings, and the strings are inserted into the result. No formatting options are available. For example, there is no way to control the number of digits used to represent a floating-point value.\n",
      "\n",
      "A benifit, though, is that by using the `safe_substitute()` method, it is possible to avoid exceptions if not all values the template needs are provided as arguments."
     ]
    },
    {
     "cell_type": "code",
     "collapsed": false,
     "input": [
      "values = { 'var':'foo' }\n",
      "t = string.Template('$var is here but $missing is not provided')\n",
      "\n",
      "try:\n",
      "    print 'substitute() :', t.substitute(values)\n",
      "except KeyError, err:\n",
      "    print 'ERROR:', str(err)\n",
      "\n",
      "print 'safe_substitute():', t.safe_substitute(values)"
     ],
     "language": "python",
     "metadata": {},
     "outputs": [
      {
       "output_type": "stream",
       "stream": "stdout",
       "text": [
        "substitute() : ERROR: 'missing'\n",
        "safe_substitute(): foo is here but $missing is not provided\n"
       ]
      }
     ],
     "prompt_number": 15
    },
    {
     "cell_type": "code",
     "collapsed": false,
     "input": [],
     "language": "python",
     "metadata": {},
     "outputs": []
    },
    {
     "cell_type": "markdown",
     "metadata": {},
     "source": [
      "The default syntax for string.Template can be changed by adjusting the regular\n",
      "expression patterns it uses to find the variable names in the template body. A simple\n",
      "way to do that is to change the delimiter and idpattern class attributes.\n",
      "\n",
      "In this example, the substitution rules are changed so that the delimiter is % instead\n",
      "of $ and variable names must include an underscore. The pattern %notunderscored\n",
      "is not replaced by anything because it does not include an underscore character."
     ]
    },
    {
     "cell_type": "code",
     "collapsed": false,
     "input": [
      "import string\n",
      "template_text = '''\n",
      "    Delimiter : %%\n",
      "    Replaced : %with_underscore\n",
      "    Ignored : %notunderscored\n",
      "'''\n",
      "\n",
      "d = { 'with_underscore':'replaced',\n",
      "      'notunderscored':'not replaced',}\n",
      "\n",
      "class MyTemplate(string.Template):\n",
      "    delimiter = '%'\n",
      "    idpattern = '[a-z]+_[a-z]+'\n"
     ],
     "language": "python",
     "metadata": {},
     "outputs": [],
     "prompt_number": 16
    },
    {
     "cell_type": "code",
     "collapsed": false,
     "input": [
      "t = MyTemplate(template_text)\n",
      "print 'Modified ID pattern:'\n",
      "print t.safe_substitute(d)"
     ],
     "language": "python",
     "metadata": {},
     "outputs": [
      {
       "output_type": "stream",
       "stream": "stdout",
       "text": [
        "Modified ID pattern:\n",
        "\n",
        "    Delimiter : %\n",
        "    Replaced : replaced\n",
        "    Ignored : %notunderscored\n",
        "\n"
       ]
      }
     ],
     "prompt_number": 17
    },
    {
     "cell_type": "markdown",
     "metadata": {},
     "source": [
      "For more complex changes, override the **pattern** attribute and define an entirely new regular expression. The patter provided must contain four named groups for capturing the escaped delimiter, the named variable, a braced version of the variable name, and any invalid delimiter patterns."
     ]
    },
    {
     "cell_type": "code",
     "collapsed": false,
     "input": [
      "t = string.Template('$var')\n",
      "print t.pattern.pattern"
     ],
     "language": "python",
     "metadata": {},
     "outputs": [
      {
       "output_type": "stream",
       "stream": "stdout",
       "text": [
        "\n",
        "    \\$(?:\n",
        "      (?P<escaped>\\$) |   # Escape sequence of two delimiters\n",
        "      (?P<named>[_a-z][_a-z0-9]*)      |   # delimiter and a Python identifier\n",
        "      {(?P<braced>[_a-z][_a-z0-9]*)}   |   # delimiter and a braced identifier\n",
        "      (?P<invalid>)              # Other ill-formed delimiter exprs\n",
        "    )\n",
        "    \n"
       ]
      }
     ],
     "prompt_number": 18
    },
    {
     "cell_type": "markdown",
     "metadata": {},
     "source": [
      "This example defines a new pattern to create a new type of template using `{{var}}` as the variable syntax."
     ]
    },
    {
     "cell_type": "code",
     "collapsed": false,
     "input": [
      "class MyTemplate(string.Template):\n",
      "    delimiter = '{{'\n",
      "    pattern = r'''\n",
      "        \\{\\{(?:\n",
      "        (?P<escaped>\\{\\{)|\n",
      "        (?P<named>[_a-z][_a-z0-9]*)\\}\\}|\n",
      "        (?P<braced>[_a-z][_a-z0-9]*)\\}\\}|\n",
      "        (?P<invalid>))\n",
      "'''\n",
      "t = MyTemplate('''\n",
      "{{{{\n",
      "{{var}}\n",
      "''')"
     ],
     "language": "python",
     "metadata": {},
     "outputs": [],
     "prompt_number": 19
    },
    {
     "cell_type": "code",
     "collapsed": false,
     "input": [
      "print 'MATCHES:', t.pattern.findall(t.template)\n",
      "print 'SUBSTITUTED:', t.safe_substitute(var='replacement')"
     ],
     "language": "python",
     "metadata": {},
     "outputs": [
      {
       "output_type": "stream",
       "stream": "stdout",
       "text": [
        "MATCHES: [('{{', '', '', ''), ('', 'var', '', '')]\n",
        "SUBSTITUTED: \n",
        "{{\n",
        "replacement\n",
        "\n"
       ]
      }
     ],
     "prompt_number": 20
    },
    {
     "cell_type": "markdown",
     "metadata": {},
     "source": [
      "##difflib"
     ]
    },
    {
     "cell_type": "code",
     "collapsed": false,
     "input": [
      "text1 = '''Lorem ipsum dolor sit amet, consectetuer adipiscing\n",
      "elit. Integer eu lacus accumsan arcu fermentum euismod. Donec\n",
      "pulvinar porttitor tellus. Aliquam venenatis. Donec facilisis\n",
      "pharetra tortor. In nec mauris eget magna consequat\n",
      "convallis. Nam sed sem vitae odio pellentesque interdum. Sed\n",
      "consequat viverra nisl. Suspendisse arcu metus, blandit quis,\n",
      "rhoncus ac, pharetra eget, velit. Mauris urna. Morbi nonummy\n",
      "molestie orci. Praesent nisi elit, fringilla ac, suscipit non,\n",
      "tristique vel, mauris. Curabitur vel lorem id nisl porta\n",
      "adipiscing. Suspendisse eu lectus. In nunc. Duis vulputate\n",
      "tristique enim. Donec quis lectus a justo imperdiet tempus.'''\n",
      "\n",
      "text1_lines = text1.splitlines()\n",
      "\n",
      "text2 = '''Lorem ipsum dolor sit amet, consectetuer adipiscing\n",
      "elit. Integer eu lacus accumsan arcu fermentum euismod. Donec\n",
      "pulvinar, porttitor tellus. Aliquam venenatis. Donec facilisis\n",
      "pharetra tortor. In nec mauris eget magna consequat\n",
      "convallis. Nam cras vitae mi vitae odio pellentesque interdum. Sed\n",
      "consequat viverra nisl. Suspendisse arcu metus, blandit quis,\n",
      "rhoncus ac, pharetra eget, velit. Mauris urna. Morbi nonummy\n",
      "molestie orci. Praesent nisi elit, fringilla ac, suscipit non,\n",
      "tristique vel, mauris. Curabitur vel lorem id nisl porta\n",
      "adipiscing. Duis vulputate tristique enim. Donec quis lectus a\n",
      "justo imperdiet tempus. Suspendisse eu lectus. In nunc.'''\n",
      "\n",
      "text2_lines = text2.splitlines()"
     ],
     "language": "python",
     "metadata": {},
     "outputs": [],
     "prompt_number": 21
    },
    {
     "cell_type": "code",
     "collapsed": false,
     "input": [
      "import difflib"
     ],
     "language": "python",
     "metadata": {},
     "outputs": [],
     "prompt_number": 23
    },
    {
     "cell_type": "code",
     "collapsed": false,
     "input": [
      "d = difflib.Differ()\n",
      "diff = d.compare(text1_lines, text2_lines)\n",
      "print '\\n'.join(diff)"
     ],
     "language": "python",
     "metadata": {},
     "outputs": [
      {
       "output_type": "stream",
       "stream": "stdout",
       "text": [
        "  Lorem ipsum dolor sit amet, consectetuer adipiscing\n",
        "  elit. Integer eu lacus accumsan arcu fermentum euismod. Donec\n",
        "- pulvinar porttitor tellus. Aliquam venenatis. Donec facilisis\n",
        "+ pulvinar, porttitor tellus. Aliquam venenatis. Donec facilisis\n",
        "?         +\n",
        "\n",
        "  pharetra tortor. In nec mauris eget magna consequat\n",
        "- convallis. Nam sed sem vitae odio pellentesque interdum. Sed\n",
        "?                  - --\n",
        "\n",
        "+ convallis. Nam cras vitae mi vitae odio pellentesque interdum. Sed\n",
        "?                +++ +++++   +\n",
        "\n",
        "  consequat viverra nisl. Suspendisse arcu metus, blandit quis,\n",
        "  rhoncus ac, pharetra eget, velit. Mauris urna. Morbi nonummy\n",
        "  molestie orci. Praesent nisi elit, fringilla ac, suscipit non,\n",
        "  tristique vel, mauris. Curabitur vel lorem id nisl porta\n",
        "- adipiscing. Suspendisse eu lectus. In nunc. Duis vulputate\n",
        "- tristique enim. Donec quis lectus a justo imperdiet tempus.\n",
        "+ adipiscing. Duis vulputate tristique enim. Donec quis lectus a\n",
        "+ justo imperdiet tempus. Suspendisse eu lectus. In nunc.\n"
       ]
      }
     ],
     "prompt_number": 24
    },
    {
     "cell_type": "markdown",
     "metadata": {},
     "source": [
      "The `ndiff()` function produces essentially the same output. The processing is\n",
      "specifically tailored for working with text data and eliminating noise in the input.\n",
      "\n",
      "The default for `Differ` is to not ignore any lines or characters explicitly, but to\n",
      "rely on the ability of `SequenceMatcher` to detect noise. The default for `ndiff()` is\n",
      "to ignore space and tab characters."
     ]
    },
    {
     "cell_type": "code",
     "collapsed": false,
     "input": [
      "diff = difflib.ndiff(text1_lines, text2_lines)\n",
      "\n",
      "print '\\n'.join(list(diff))"
     ],
     "language": "python",
     "metadata": {},
     "outputs": [
      {
       "output_type": "stream",
       "stream": "stdout",
       "text": [
        "  Lorem ipsum dolor sit amet, consectetuer adipiscing\n",
        "  elit. Integer eu lacus accumsan arcu fermentum euismod. Donec\n",
        "- pulvinar porttitor tellus. Aliquam venenatis. Donec facilisis\n",
        "+ pulvinar, porttitor tellus. Aliquam venenatis. Donec facilisis\n",
        "?         +\n",
        "\n",
        "  pharetra tortor. In nec mauris eget magna consequat\n",
        "- convallis. Nam sed sem vitae odio pellentesque interdum. Sed\n",
        "?                 ------\n",
        "\n",
        "+ convallis. Nam cras vitae mi vitae odio pellentesque interdum. Sed\n",
        "?                +++        +++++++++\n",
        "\n",
        "  consequat viverra nisl. Suspendisse arcu metus, blandit quis,\n",
        "  rhoncus ac, pharetra eget, velit. Mauris urna. Morbi nonummy\n",
        "  molestie orci. Praesent nisi elit, fringilla ac, suscipit non,\n",
        "  tristique vel, mauris. Curabitur vel lorem id nisl porta\n",
        "- adipiscing. Suspendisse eu lectus. In nunc. Duis vulputate\n",
        "- tristique enim. Donec quis lectus a justo imperdiet tempus.\n",
        "+ adipiscing. Duis vulputate tristique enim. Donec quis lectus a\n",
        "+ justo imperdiet tempus. Suspendisse eu lectus. In nunc.\n"
       ]
      }
     ],
     "prompt_number": 27
    },
    {
     "cell_type": "code",
     "collapsed": false,
     "input": [],
     "language": "python",
     "metadata": {},
     "outputs": []
    },
    {
     "cell_type": "markdown",
     "metadata": {},
     "source": [
      "While the Differ class shows all input lines, a **unified diff** includes only modified\n",
      "lines and a bit of context. In Python 2.3, the `unified_diff()` function was added to\n",
      "produce this sort of output.\n",
      "\n",
      "While the Differ class shows all input lines, a unified diff includes only modified\n",
      "lines and a bit of context. In Python 2.3, the `unified_diff()` function was added to\n",
      "produce this sort of output."
     ]
    },
    {
     "cell_type": "code",
     "collapsed": false,
     "input": [
      "diff = difflib.unified_diff(text1_lines,\n",
      "    text2_lines,\n",
      "    lineterm='',)\n",
      "\n",
      "print '\\n'.join(list(diff))"
     ],
     "language": "python",
     "metadata": {},
     "outputs": [
      {
       "output_type": "stream",
       "stream": "stdout",
       "text": [
        "--- \n",
        "+++ \n",
        "@@ -1,11 +1,11 @@\n",
        " Lorem ipsum dolor sit amet, consectetuer adipiscing\n",
        " elit. Integer eu lacus accumsan arcu fermentum euismod. Donec\n",
        "-pulvinar porttitor tellus. Aliquam venenatis. Donec facilisis\n",
        "+pulvinar, porttitor tellus. Aliquam venenatis. Donec facilisis\n",
        " pharetra tortor. In nec mauris eget magna consequat\n",
        "-convallis. Nam sed sem vitae odio pellentesque interdum. Sed\n",
        "+convallis. Nam cras vitae mi vitae odio pellentesque interdum. Sed\n",
        " consequat viverra nisl. Suspendisse arcu metus, blandit quis,\n",
        " rhoncus ac, pharetra eget, velit. Mauris urna. Morbi nonummy\n",
        " molestie orci. Praesent nisi elit, fringilla ac, suscipit non,\n",
        " tristique vel, mauris. Curabitur vel lorem id nisl porta\n",
        "-adipiscing. Suspendisse eu lectus. In nunc. Duis vulputate\n",
        "-tristique enim. Donec quis lectus a justo imperdiet tempus.\n",
        "+adipiscing. Duis vulputate tristique enim. Donec quis lectus a\n",
        "+justo imperdiet tempus. Suspendisse eu lectus. In nunc.\n"
       ]
      }
     ],
     "prompt_number": 25
    },
    {
     "cell_type": "code",
     "collapsed": false,
     "input": [
      "diff = difflib.context_diff(text1_lines,\n",
      "    text2_lines,\n",
      "    lineterm='',)\n",
      "\n",
      "print '\\n'.join(list(diff))"
     ],
     "language": "python",
     "metadata": {},
     "outputs": [
      {
       "output_type": "stream",
       "stream": "stdout",
       "text": [
        "*** \n",
        "--- \n",
        "***************\n",
        "*** 1,11 ****\n",
        "  Lorem ipsum dolor sit amet, consectetuer adipiscing\n",
        "  elit. Integer eu lacus accumsan arcu fermentum euismod. Donec\n",
        "! pulvinar porttitor tellus. Aliquam venenatis. Donec facilisis\n",
        "  pharetra tortor. In nec mauris eget magna consequat\n",
        "! convallis. Nam sed sem vitae odio pellentesque interdum. Sed\n",
        "  consequat viverra nisl. Suspendisse arcu metus, blandit quis,\n",
        "  rhoncus ac, pharetra eget, velit. Mauris urna. Morbi nonummy\n",
        "  molestie orci. Praesent nisi elit, fringilla ac, suscipit non,\n",
        "  tristique vel, mauris. Curabitur vel lorem id nisl porta\n",
        "! adipiscing. Suspendisse eu lectus. In nunc. Duis vulputate\n",
        "! tristique enim. Donec quis lectus a justo imperdiet tempus.\n",
        "--- 1,11 ----\n",
        "  Lorem ipsum dolor sit amet, consectetuer adipiscing\n",
        "  elit. Integer eu lacus accumsan arcu fermentum euismod. Donec\n",
        "! pulvinar, porttitor tellus. Aliquam venenatis. Donec facilisis\n",
        "  pharetra tortor. In nec mauris eget magna consequat\n",
        "! convallis. Nam cras vitae mi vitae odio pellentesque interdum. Sed\n",
        "  consequat viverra nisl. Suspendisse arcu metus, blandit quis,\n",
        "  rhoncus ac, pharetra eget, velit. Mauris urna. Morbi nonummy\n",
        "  molestie orci. Praesent nisi elit, fringilla ac, suscipit non,\n",
        "  tristique vel, mauris. Curabitur vel lorem id nisl porta\n",
        "! adipiscing. Duis vulputate tristique enim. Donec quis lectus a\n",
        "! justo imperdiet tempus. Suspendisse eu lectus. In nunc.\n"
       ]
      }
     ],
     "prompt_number": 26
    },
    {
     "cell_type": "markdown",
     "metadata": {},
     "source": [
      "###Junk Data"
     ]
    },
    {
     "cell_type": "code",
     "collapsed": false,
     "input": [
      "# This example is adapted from the source for difflib.py.\n",
      "from difflib import SequenceMatcher\n",
      "\n",
      "def show_results(s):\n",
      "    i, j, k = s.find_longest_match(0, 5, 0, 9)\n",
      "    print ' i = %d' % i\n",
      "    print ' j = %d' % j\n",
      "    print ' k = %d' % k\n",
      "    print ' A[i:i+k] = %r' % A[i:i+k]\n",
      "    print ' B[j:j+k] = %r' % B[j:j+k]\n",
      "\n",
      "A = ' abcd'\n",
      "B = 'abcd abcd'\n",
      "\n",
      "print 'A = %r' % A\n",
      "print 'B = %r' % B\n",
      "\n",
      "print '\\nWithout junk detection:'\n",
      "show_results(SequenceMatcher(None, A, B))\n",
      "\n",
      "print '\\nTreat spaces as junk:'\n",
      "show_results(SequenceMatcher(lambda x: x==' ', A, B))\n"
     ],
     "language": "python",
     "metadata": {},
     "outputs": [
      {
       "output_type": "stream",
       "stream": "stdout",
       "text": [
        "A = ' abcd'\n",
        "B = 'abcd abcd'\n",
        "\n",
        "Without junk detection:\n",
        " i = 0\n",
        " j = 4\n",
        " k = 5\n",
        " A[i:i+k] = ' abcd'\n",
        " B[j:j+k] = ' abcd'\n",
        "\n",
        "Treat spaces as junk:\n",
        " i = 1\n",
        " j = 0\n",
        " k = 4\n",
        " A[i:i+k] = 'abcd'\n",
        " B[j:j+k] = 'abcd'\n"
       ]
      }
     ],
     "prompt_number": 28
    },
    {
     "cell_type": "markdown",
     "metadata": {},
     "source": [
      "The `SequenceMatcher` class compares two sequences of any type, as long as the\n",
      "values are hashable. It uses an algorithm to identify the longest contiguous matching\n",
      "blocks from the sequences, eliminating junk values that do not contribute to the real\n",
      "data.\n",
      "\n",
      "This example compares two lists of integers and uses `get_opcodes()` to derive\n",
      "the instructions for converting the original list into the newer version. The modifications\n",
      "are applied in reverse order so that the list indexes remain accurate after items are added\n",
      "and removed."
     ]
    },
    {
     "cell_type": "code",
     "collapsed": false,
     "input": [
      "s1 = [ 1, 2, 3, 5, 6, 4 ]\n",
      "s2 = [ 2, 3, 5, 4, 6, 1 ]\n",
      "\n",
      "print 'Initial data:'\n",
      "print 's1 =', s1\n",
      "print 's2 =', s2\n",
      "print 's1 == s2:', s1==s2\n",
      "print\n",
      "\n",
      "matcher = difflib.SequenceMatcher(None, s1, s2)\n",
      "for tag, i1, i2, j1, j2 in reversed(matcher.get_opcodes()):\n",
      "    if tag == 'delete':\n",
      "        print 'Remove %s from positions [%d:%d]' % \\\n",
      "              (s1[i1:i2], i1, i2)\n",
      "        del s1[i1:i2]\n",
      "    elif tag == 'equal':\n",
      "        print 's1[%d:%d] and s2[%d:%d] are the same' % \\\n",
      "              (i1, i2, j1, j2)\n",
      "    elif tag == 'insert':\n",
      "        print 'Insert %s from s2[%d:%d] into s1 at %d' % \\\n",
      "              (s2[j1:j2], j1, j2, i1)\n",
      "        s1[i1:i2] = s2[j1:j2]\n",
      "    elif tag == 'replace':\n",
      "        print 'Replace %s from s1[%d:%d] with %s from s2[%d:%d]' % (\n",
      "              s1[i1:i2], i1, i2, s2[j1:j2], j1, j2)\n",
      "        s1[i1:i2] = s2[j1:j2]\n",
      "    \n",
      "    print ' s1 =', s1\n",
      "\n",
      "print 's1 == s2:', s1==s2"
     ],
     "language": "python",
     "metadata": {},
     "outputs": [
      {
       "output_type": "stream",
       "stream": "stdout",
       "text": [
        "Initial data:\n",
        "s1 = [1, 2, 3, 5, 6, 4]\n",
        "s2 = [2, 3, 5, 4, 6, 1]\n",
        "s1 == s2: False\n",
        "\n",
        "Replace [4] from s1[5:6] with [1] from s2[5:6]\n",
        " s1 = [1, 2, 3, 5, 6, 1]\n",
        "s1[4:5] and s2[4:5] are the same\n",
        " s1 = [1, 2, 3, 5, 6, 1]\n",
        "Insert [4] from s2[3:4] into s1 at 4\n",
        " s1 = [1, 2, 3, 5, 4, 6, 1]\n",
        "s1[1:4] and s2[0:3] are the same\n",
        " s1 = [1, 2, 3, 5, 4, 6, 1]\n",
        "Remove [1] from positions [0:1]\n",
        " s1 = [2, 3, 5, 4, 6, 1]\n",
        "s1 == s2: True\n"
       ]
      }
     ],
     "prompt_number": 29
    },
    {
     "cell_type": "markdown",
     "metadata": {},
     "source": [
      "See Also:\n",
      "\n",
      "[Pattern Matching: The Gestalt Approach](http://www.drdobbs.com/database/pattern-matching-the-gestalt-approach/184407970?pgno=5)"
     ]
    },
    {
     "cell_type": "code",
     "collapsed": false,
     "input": [],
     "language": "python",
     "metadata": {},
     "outputs": []
    },
    {
     "cell_type": "code",
     "collapsed": false,
     "input": [
      "#This makes everything pretty\n",
      "\n",
      "from IPython.core.display import HTML\n",
      "from urllib import urlopen\n",
      "def css_styling():\n",
      "    styles = open('styles/custom.css', 'r').read()\n",
      "    return HTML(styles)\n",
      "css_styling()"
     ],
     "language": "python",
     "metadata": {},
     "outputs": [
      {
       "html": [
        "<style>\n",
        "    @font-face {\n",
        "        font-family: \"Computer Modern\";\n",
        "        src: url('http://9dbb143991406a7c655e-aa5fcb0a5a4ec34cff238a2d56ca4144.r56.cf5.rackcdn.com/cmunss.otf');\n",
        "    }\n",
        "    @font-face {\n",
        "        font-family: \"Computer Modern\";\n",
        "        font-weight: bold;\n",
        "        src: url('http://9dbb143991406a7c655e-aa5fcb0a5a4ec34cff238a2d56ca4144.r56.cf5.rackcdn.com/cmunsx.otf');\n",
        "    }\n",
        "    @font-face {\n",
        "        font-family: \"Computer Modern\";\n",
        "        font-style: oblique;\n",
        "        src: url('http://9dbb143991406a7c655e-aa5fcb0a5a4ec34cff238a2d56ca4144.r56.cf5.rackcdn.com/cmunsi.otf');\n",
        "    }\n",
        "    @font-face {\n",
        "        font-family: \"Computer Modern\";\n",
        "        font-weight: bold;\n",
        "        font-style: oblique;\n",
        "        src: url('http://9dbb143991406a7c655e-aa5fcb0a5a4ec34cff238a2d56ca4144.r56.cf5.rackcdn.com/cmunso.otf');\n",
        "    }\n",
        "    div.cell{\n",
        "        width:800px;\n",
        "        margin-left:16% !important;\n",
        "        margin-right:auto;\n",
        "    }\n",
        "    h1 {\n",
        "        font-family: Helvetica, serif;\n",
        "    }\n",
        "    h4{\n",
        "        margin-top:12px;\n",
        "        margin-bottom: 3px;\n",
        "       }\n",
        "    div.text_cell_render{\n",
        "        font-family: Computer Modern, \"Helvetica Neue\", Arial, Helvetica, Geneva, sans-serif;\n",
        "        line-height: 145%;\n",
        "        font-size: 130%;\n",
        "        width:800px;\n",
        "        margin-left:auto;\n",
        "        margin-right:auto;\n",
        "    }\n",
        "    .CodeMirror{\n",
        "            font-family: \"Source Code Pro\", source-code-pro,Consolas, monospace;\n",
        "    }\n",
        "    .prompt{\n",
        "        display: None;\n",
        "    }\n",
        "    .text_cell_render h5 {\n",
        "        font-weight: 300;\n",
        "        font-size: 22pt;\n",
        "        color: #4057A1;\n",
        "        font-style: italic;\n",
        "        margin-bottom: .5em;\n",
        "        margin-top: 0.5em;\n",
        "        display: block;\n",
        "    }\n",
        "    \n",
        "    .warning{\n",
        "        color: rgb( 240, 20, 20 )\n",
        "        }  \n",
        "</style>\n",
        "<script>\n",
        "    MathJax.Hub.Config({\n",
        "                        TeX: {\n",
        "                           extensions: [\"AMSmath.js\"]\n",
        "                           },\n",
        "                tex2jax: {\n",
        "                    inlineMath: [ ['$','$'], [\"\\\\(\",\"\\\\)\"] ],\n",
        "                    displayMath: [ ['$$','$$'], [\"\\\\[\",\"\\\\]\"] ]\n",
        "                },\n",
        "                displayAlign: 'center', // Change this to 'center' to center equations.\n",
        "                \"HTML-CSS\": {\n",
        "                    styles: {'.MathJax_Display': {\"margin\": 4}}\n",
        "                }\n",
        "        });\n",
        "</script>\n"
       ],
       "metadata": {},
       "output_type": "pyout",
       "prompt_number": 9,
       "text": [
        "<IPython.core.display.HTML at 0x4b47b70>"
       ]
      }
     ],
     "prompt_number": 9
    },
    {
     "cell_type": "code",
     "collapsed": false,
     "input": [],
     "language": "python",
     "metadata": {},
     "outputs": []
    }
   ],
   "metadata": {}
  }
 ]
}